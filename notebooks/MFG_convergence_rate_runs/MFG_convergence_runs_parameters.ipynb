{
 "cells": [
  {
   "cell_type": "code",
   "execution_count": 2,
   "metadata": {},
   "outputs": [],
   "source": [
    "# run 1 parameters:\n",
    "\n",
    "h_reference = 1/2^12\n",
    "h_list = [1/2^5, 1/2^6, 1/2^7,1/2^8, 1/2^9, h_reference]\n",
    "\n",
    "for h in h_list\n",
    "    α = 1.0 \n",
    "    x_vec = -1:h:(2-h);\n",
    "    N_h =length(x_vec);\n",
    "    Δt = 0.01\n",
    "    t_vec = 0:Δt:(1-Δt)\n",
    "    N_T =length(t_vec)\n",
    "    ν=0.09^2\n",
    "    num_it_MFG=50\n",
    "    num_it_HJB=20\n",
    "    δ = 0.4\n",
    "    R=30\n",
    "    C_H = 0.5\n",
    "    cv = (α, h, N_h, Δt, N_T, ν, num_it_MFG, num_it_HJB, x_vec, R, δ, C_H); # create a constant-vector, to avoid clutter for all constants we need.\n",
    "end "
   ]
  },
  {
   "cell_type": "code",
   "execution_count": null,
   "metadata": {},
   "outputs": [],
   "source": [
    "# run 2 parameters:\n",
    "\n",
    "h_reference = 1/2^12\n",
    "h_list = [1/2^5, 1/2^6, 1/2^7,1/2^8, 1/2^9, h_reference]\n",
    "\n",
    "for h in h_list\n",
    "    α = 1.5 \n",
    "    x_vec = -1:h:(2-h);\n",
    "    N_h =length(x_vec);\n",
    "    Δt = 0.01\n",
    "    t_vec = 0:Δt:(1-Δt)\n",
    "    N_T =length(t_vec)\n",
    "    ν=0.09^2\n",
    "    num_it_MFG=50\n",
    "    num_it_HJB=20\n",
    "    δ = 0.4\n",
    "    R=30\n",
    "    C_H = 0.5\n",
    "    cv = (α, h, N_h, Δt, N_T, ν, num_it_MFG, num_it_HJB, x_vec, R, δ, C_H); # create a constant-vector, to avoid clutter for all constants we need.\n",
    "end "
   ]
  }
 ],
 "metadata": {
  "kernelspec": {
   "display_name": "Julia 1.10.5",
   "language": "julia",
   "name": "julia-1.10"
  },
  "language_info": {
   "file_extension": ".jl",
   "mimetype": "application/julia",
   "name": "julia",
   "version": "1.10.5"
  }
 },
 "nbformat": 4,
 "nbformat_minor": 2
}
